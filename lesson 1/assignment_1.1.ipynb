{
 "cells": [
  {
   "cell_type": "code",
   "execution_count": 2,
   "id": "0d1006ce",
   "metadata": {},
   "outputs": [
    {
     "name": "stdout",
     "output_type": "stream",
     "text": [
      "The time spent in sleeping in week1 is:2\n",
      "The time spent in eating in week1 is:3\n",
      "The time spent in studying in week1 is:4\n",
      "The time spent in sleeping in week2 is:5\n",
      "The time spent in eating in week2 is:6\n",
      "The time spent in studying in week2 is:7\n",
      "The time spent in sleeping in week3 is:8\n",
      "The time spent in eating in week3 is:5\n",
      "The time spent in studying in week3 is:6\n",
      "The time spent in sleeping in week4 is:7\n",
      "The time spent in eating in week4 is:4\n",
      "The time spent in studying in week4 is:5\n",
      "[{'weeks': 'week1', 'studying': '4', 'eating': '3', 'sleeping': '2'}, {'weeks': 'week2', 'studying': '7', 'eating': '6', 'sleeping': '5'}, {'weeks': 'week3', 'studying': '6', 'eating': '5', 'sleeping': '8'}, {'weeks': 'week4', 'studying': '5', 'eating': '4', 'sleeping': '7'}]\n"
     ]
    },
    {
     "data": {
      "text/html": [
       "<div>\n",
       "<style scoped>\n",
       "    .dataframe tbody tr th:only-of-type {\n",
       "        vertical-align: middle;\n",
       "    }\n",
       "\n",
       "    .dataframe tbody tr th {\n",
       "        vertical-align: top;\n",
       "    }\n",
       "\n",
       "    .dataframe thead th {\n",
       "        text-align: right;\n",
       "    }\n",
       "</style>\n",
       "<table border=\"1\" class=\"dataframe\">\n",
       "  <thead>\n",
       "    <tr style=\"text-align: right;\">\n",
       "      <th></th>\n",
       "      <th>weeks</th>\n",
       "      <th>studying</th>\n",
       "      <th>eating</th>\n",
       "      <th>sleeping</th>\n",
       "    </tr>\n",
       "  </thead>\n",
       "  <tbody>\n",
       "    <tr>\n",
       "      <th>0</th>\n",
       "      <td>week1</td>\n",
       "      <td>4</td>\n",
       "      <td>3</td>\n",
       "      <td>2</td>\n",
       "    </tr>\n",
       "    <tr>\n",
       "      <th>1</th>\n",
       "      <td>week2</td>\n",
       "      <td>7</td>\n",
       "      <td>6</td>\n",
       "      <td>5</td>\n",
       "    </tr>\n",
       "    <tr>\n",
       "      <th>2</th>\n",
       "      <td>week3</td>\n",
       "      <td>6</td>\n",
       "      <td>5</td>\n",
       "      <td>8</td>\n",
       "    </tr>\n",
       "    <tr>\n",
       "      <th>3</th>\n",
       "      <td>week4</td>\n",
       "      <td>5</td>\n",
       "      <td>4</td>\n",
       "      <td>7</td>\n",
       "    </tr>\n",
       "  </tbody>\n",
       "</table>\n",
       "</div>"
      ],
      "text/plain": [
       "   weeks studying eating sleeping\n",
       "0  week1        4      3        2\n",
       "1  week2        7      6        5\n",
       "2  week3        6      5        8\n",
       "3  week4        5      4        7"
      ]
     },
     "execution_count": 2,
     "metadata": {},
     "output_type": "execute_result"
    }
   ],
   "source": [
    "import pandas as pd\n",
    "\n",
    "week_num = []\n",
    "week = ['week1','week2','week3','week4']\n",
    "items = ['sleeping','eating','studying']\n",
    "for i in week:\n",
    "    sleeping = input(\"The time spent in sleeping in \" + i + ' ' + \"is:\")\n",
    "    eating = input(\"The time spent in eating in \" + i + ' ' +\"is:\")\n",
    "    studying = input(\"The time spent in studying in \" + i + ' ' +\"is:\")\n",
    "    \n",
    "    week_num.append({'weeks':i,'studying':studying,'eating':eating,'sleeping':sleeping}) \n",
    "#print(item_num)\n",
    "print(week_num)\n",
    "\n",
    "    \n",
    "df = pd.DataFrame(week_num)\n",
    "df.to_csv('week_num5.csv',mode = 'w', index = False)\n",
    "df"
   ]
  },
  {
   "cell_type": "code",
   "execution_count": 7,
   "id": "45ea104c",
   "metadata": {},
   "outputs": [
    {
     "name": "stdout",
     "output_type": "stream",
     "text": [
      "Task list: \n",
      " [['week1', 4, 3, 2], ['week2', 7, 6, 5], ['week3', 6, 5, 8], ['week4', 5, 4, 7]]\n",
      "weeks ['week1', 'week2', 'week3', 'week4'] \n",
      "\n",
      "studying [4, 7, 6, 5] \n",
      "\n",
      "eating [3, 6, 5, 4] \n",
      "\n",
      "sleeping [2, 5, 8, 7] \n",
      "\n",
      "2.25\n",
      "4.5\n",
      "4.75\n",
      "4.0\n",
      "[2.25, 4.5, 4.75, 4.0]\n"
     ]
    },
    {
     "data": {
      "image/png": "[encoded data removed]",
      "text/plain": [
       "<Figure size 432x288 with 1 Axes>"
      ]
     },
     "metadata": {
      "needs_background": "light"
     },
     "output_type": "display_data"
    }
   ],
   "source": [
    "import pandas as pd\n",
    "from matplotlib import pyplot as plt\n",
    "\n",
    "df = pd.read_csv(\"week_num5.csv\")\n",
    "df\n",
    "task_list = df.values.tolist()\n",
    "print(\"Task list:\",\"\\n\",task_list)\n",
    "weeks = []\n",
    "studying = []\n",
    "eating = []\n",
    "sleeping = []\n",
    "for i in task_list:\n",
    "    weeks.append(i[0])\n",
    "    studying.append(i[1])\n",
    "    eating.append(i[2])\n",
    "    sleeping.append(i[3])\n",
    "print(\"weeks\",week,\"\\n\")\n",
    "print(\"studying\",studying,\"\\n\")\n",
    "print(\"eating\",eating,\"\\n\")\n",
    "print(\"sleeping\",sleeping,\"\\n\")\n",
    "\n",
    "t1 = [4,3,2]\n",
    "t2 = [7,6,5]\n",
    "t3 = [6,5,8]\n",
    "t4 = [5,4,7]\n",
    "\n",
    "n1=0\n",
    "for i in t1:\n",
    "    n1 += i\n",
    "    ave1 = n1/4\n",
    "print(ave1)\n",
    "\n",
    "n2=0\n",
    "for i in t2:\n",
    "    n2 += i\n",
    "    ave2 = n2/4\n",
    "print(ave2)\n",
    "\n",
    "n3=0\n",
    "for i in t3:\n",
    "    n3 += i\n",
    "    ave3 = n3/4\n",
    "print(ave3)\n",
    "\n",
    "n4=0\n",
    "for i in t4:\n",
    "    n4 += i\n",
    "    ave4 = n4/4\n",
    "print(ave4)\n",
    "\n",
    "ave = [ave1,ave2,ave3,ave4]\n",
    "print(ave)\n",
    "\n",
    "plt.plot(weeks,studying,color = 'orange',marker='s')\n",
    "plt.plot(weeks,eating,color = '#82edc9')\n",
    "plt.plot(weeks,sleeping,color = 'grey')\n",
    "plt.plot(weeks,ave,color = 'black',marker='s')\n",
    "plt.legend([\"studying\",\"eating\",\"sleeping\",\"average\"])\n",
    "plt.title('Weekly hours')\n",
    "plt.xlabel(\"weeks\")\n",
    "plt.ylabel(\"hours\")\n",
    "plt.show()\n",
    "\n"
   ]
  },
  {
   "cell_type": "code",
   "execution_count": null,
   "id": "a5f2ff2e",
   "metadata": {},
   "outputs": [],
   "source": []
  }
 ],
 "metadata": {
  "kernelspec": {
   "display_name": "Python 3",
   "language": "python",
   "name": "python3"
  },
  "language_info": {
   "codemirror_mode": {
    "name": "ipython",
    "version": 3
   },
   "file_extension": ".py",
   "mimetype": "text/x-python",
   "name": "python",
   "nbconvert_exporter": "python",
   "pygments_lexer": "ipython3",
   "version": "3.8.8"
  }
 },
 "nbformat": 4,
 "nbformat_minor": 5
}
